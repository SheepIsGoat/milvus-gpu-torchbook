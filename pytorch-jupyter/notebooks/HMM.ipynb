{
 "cells": [
  {
   "cell_type": "code",
   "execution_count": 1,
   "id": "1dbb44a9-4405-45a0-90c6-8490284a0de4",
   "metadata": {},
   "outputs": [
    {
     "name": "stderr",
     "output_type": "stream",
     "text": [
      "/home/user/micromamba/lib/python3.10/site-packages/tqdm/auto.py:21: TqdmWarning: IProgress not found. Please update jupyter and ipywidgets. See https://ipywidgets.readthedocs.io/en/stable/user_install.html\n",
      "  from .autonotebook import tqdm as notebook_tqdm\n"
     ]
    }
   ],
   "source": [
    "from bayesian_classifier.poems import BayesianCorpus, get_confusion_matrix, combine_vocabs"
   ]
  },
  {
   "cell_type": "code",
   "execution_count": 2,
   "id": "dc8f00d5-5344-4d9c-8426-8198c6eb81f5",
   "metadata": {},
   "outputs": [],
   "source": [
    "import requests\n",
    "raw_poe = requests.get('https://raw.githubusercontent.com/lazyprogrammer/machine_learning_examples/master/hmm_class/edgar_allan_poe.txt').content\n",
    "raw_frost = requests.get('https://raw.githubusercontent.com/lazyprogrammer/machine_learning_examples/master/hmm_class/robert_frost.txt').content"
   ]
  },
  {
   "cell_type": "code",
   "execution_count": 3,
   "id": "f18306de-c521-49e4-a545-28ad835cc769",
   "metadata": {},
   "outputs": [],
   "source": [
    "frost_corpus = BayesianCorpus(raw_frost, 'frost', ragged=True)\n",
    "poe_corpus = BayesianCorpus(raw_poe, 'poe', ragged=True)"
   ]
  },
  {
   "cell_type": "code",
   "execution_count": 4,
   "id": "540195c5-c103-41dd-b4d6-3c8696b5133f",
   "metadata": {},
   "outputs": [],
   "source": [
    "combine_vocabs([frost_corpus, poe_corpus])"
   ]
  },
  {
   "cell_type": "code",
   "execution_count": 5,
   "id": "03e5f456-60b5-4b20-b932-58aa06fd1b1c",
   "metadata": {},
   "outputs": [
    {
     "name": "stdout",
     "output_type": "stream",
     "text": [
      "Building transition matrix with size 2238 X 2238\n",
      "Error, transition matrix probabilities for label frost sum to outside acceptable range.\n",
      "Building transition matrix with size 2238 X 2238\n",
      "Error, transition matrix probabilities for label poe sum to outside acceptable range.\n",
      "          pred_frost  pred_poe\n",
      "is_frost         146       250\n",
      "is_poe            34       166\n"
     ]
    }
   ],
   "source": [
    "res = get_confusion_matrix([frost_corpus, poe_corpus])\n",
    "print(res)"
   ]
  },
  {
   "cell_type": "code",
   "execution_count": 6,
   "id": "9f6b0299-b159-46b6-9b72-bbc96b71c27e",
   "metadata": {},
   "outputs": [
    {
     "data": {
      "text/plain": [
       "<2238x2238 sparse matrix of type '<class 'numpy.float64'>'\n",
       "\twith 6524 stored elements in Compressed Sparse Row format>"
      ]
     },
     "execution_count": 6,
     "metadata": {},
     "output_type": "execute_result"
    }
   ],
   "source": [
    "frost_corpus.tmat"
   ]
  },
  {
   "cell_type": "code",
   "execution_count": 7,
   "id": "8de0732f-3225-4006-8538-8ce7ea6c4b18",
   "metadata": {},
   "outputs": [
    {
     "name": "stdout",
     "output_type": "stream",
     "text": [
      "-82.4465125393979 -87.79142757188683\n",
      "-72.39662475909547 -61.15758858904695\n"
     ]
    }
   ],
   "source": [
    "frost_sample = frost_corpus.train[0]\n",
    "poe_sample = poe_corpus.train[0]\n",
    "\n",
    "frost_prob = frost_corpus.infer_logprob(frost_sample)\n",
    "poe_prob = poe_corpus.infer_logprob(frost_sample)\n",
    "print(frost_prob, poe_prob)\n",
    "\n",
    "frost2_prob = frost_corpus.infer_logprob(poe_sample)\n",
    "poe2_prob = poe_corpus.infer_logprob(poe_sample)\n",
    "print(frost2_prob, poe2_prob)"
   ]
  },
  {
   "cell_type": "code",
   "execution_count": 8,
   "id": "4511e7d3-8f4f-49d0-80fd-d64b7778ad16",
   "metadata": {},
   "outputs": [
    {
     "data": {
      "text/html": [
       "<div>\n",
       "<style scoped>\n",
       "    .dataframe tbody tr th:only-of-type {\n",
       "        vertical-align: middle;\n",
       "    }\n",
       "\n",
       "    .dataframe tbody tr th {\n",
       "        vertical-align: top;\n",
       "    }\n",
       "\n",
       "    .dataframe thead th {\n",
       "        text-align: right;\n",
       "    }\n",
       "</style>\n",
       "<table border=\"1\" class=\"dataframe\">\n",
       "  <thead>\n",
       "    <tr style=\"text-align: right;\">\n",
       "      <th></th>\n",
       "      <th>pred_frost</th>\n",
       "      <th>pred_poe</th>\n",
       "    </tr>\n",
       "  </thead>\n",
       "  <tbody>\n",
       "    <tr>\n",
       "      <th>is_frost</th>\n",
       "      <td>1145</td>\n",
       "      <td>40</td>\n",
       "    </tr>\n",
       "    <tr>\n",
       "      <th>is_poe</th>\n",
       "      <td>57</td>\n",
       "      <td>540</td>\n",
       "    </tr>\n",
       "  </tbody>\n",
       "</table>\n",
       "</div>"
      ],
      "text/plain": [
       "          pred_frost  pred_poe\n",
       "is_frost        1145        40\n",
       "is_poe            57       540"
      ]
     },
     "execution_count": 8,
     "metadata": {},
     "output_type": "execute_result"
    }
   ],
   "source": [
    "get_confusion_matrix([frost_corpus, poe_corpus], test=False)"
   ]
  },
  {
   "cell_type": "code",
   "execution_count": 9,
   "id": "c13ff717-4d1f-41d8-9260-7657d05f0566",
   "metadata": {},
   "outputs": [],
   "source": [
    "import dask.bag as db\n",
    "def stream_from_url(url):\n",
    "    with requests.get(url, stream=True) as response:\n",
    "        for line in response.iter_lines():\n",
    "            yield line.decode('utf-8')\n",
    "\n",
    "url = \"https://raw.githubusercontent.com/lazyprogrammer/machine_learning_examples/master/hmm_class/edgar_allan_poe.txt\"\n",
    "bag = db.from_sequence(stream_from_url(url))"
   ]
  },
  {
   "cell_type": "code",
   "execution_count": 10,
   "id": "12274603-44a4-4072-89f0-34ca58e709c1",
   "metadata": {},
   "outputs": [
    {
     "name": "stdout",
     "output_type": "stream",
     "text": [
      "(\"LO! Death hath rear'd himself a throne\", 'In a strange city, all alone,', 'Far down within the dim west')\n"
     ]
    },
    {
     "name": "stderr",
     "output_type": "stream",
     "text": [
      "/home/user/micromamba/lib/python3.10/site-packages/dask/bag/core.py:2507: UserWarning: Insufficient elements for `take`. 10 elements requested, only 3 elements available. Try passing larger `npartitions` to `take`.\n",
      "  warnings.warn(\n"
     ]
    }
   ],
   "source": [
    "print(bag.take(10))"
   ]
  },
  {
   "cell_type": "code",
   "execution_count": 11,
   "id": "38bfb65a-0792-4d74-83da-a5540c7fedb0",
   "metadata": {},
   "outputs": [],
   "source": [
    "import dask.bag as db\n",
    "import dask\n",
    "import requests\n",
    "\n",
    "@dask.delayed\n",
    "def load_url(url):\n",
    "    with requests.get(url, stream=True) as r:\n",
    "        return [line.decode('utf-8') for line in r.iter_lines() if line]\n",
    "\n",
    "url = \"https://raw.githubusercontent.com/lazyprogrammer/machine_learning_examples/master/hmm_class/edgar_allan_poe.txt\"\n",
    "delayed_bag = load_url(url)\n",
    "bag = db.from_delayed([delayed_bag])  # Convert the delayed object to a Dask Bag\n",
    "\n",
    "# Now you can operate on the bag as you normally would\n",
    "result = bag.filter(lambda x: \"fair\" in x).compute()"
   ]
  },
  {
   "cell_type": "code",
   "execution_count": 12,
   "id": "b8d7f8cb-78e2-4ac2-8dcb-141daa420df8",
   "metadata": {},
   "outputs": [
    {
     "name": "stdout",
     "output_type": "stream",
     "text": [
      "(\"LO! Death hath rear'd himself a throne\", 'In a strange city, all alone,', 'Far down within the dim west', 'Where the good, and the bad, and the worst, and the best,', 'Have gone to their eternal rest.', '\\u2009', 'There shrines, and palaces, and towers', 'Are not like any thing of ours', 'Oh no! O no! ours never loom', 'To heaven with that ungodly gloom!')\n",
      "['Fair isle, that from the fairest of all flowers,', 'How fairy-like a melody there floats ', 'Once fair and stately palace --', 'Over fabric half so fair.', 'Was the fair palace door,']\n"
     ]
    }
   ],
   "source": [
    "print(bag.take(10))\n",
    "print(result)"
   ]
  }
 ],
 "metadata": {
  "kernelspec": {
   "display_name": "Python 3 (ipykernel)",
   "language": "python",
   "name": "python3"
  },
  "language_info": {
   "codemirror_mode": {
    "name": "ipython",
    "version": 3
   },
   "file_extension": ".py",
   "mimetype": "text/x-python",
   "name": "python",
   "nbconvert_exporter": "python",
   "pygments_lexer": "ipython3",
   "version": "3.10.9"
  }
 },
 "nbformat": 4,
 "nbformat_minor": 5
}
