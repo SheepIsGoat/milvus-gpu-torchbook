{
 "cells": [
  {
   "cell_type": "code",
   "execution_count": 12,
   "id": "62262be6-4bf7-4092-8f47-b83dd3356f72",
   "metadata": {},
   "outputs": [],
   "source": [
    "import dask.bag as db\n",
    "import requests\n",
    "def stream_from_url(url):\n",
    "    with requests.get(url, stream=True) as response:\n",
    "        for line in response.iter_lines():\n",
    "            yield line.decode('utf-8')\n",
    "\n",
    "url = \"https://raw.githubusercontent.com/lazyprogrammer/machine_learning_examples/master/hmm_class/edgar_allan_poe.txt\"\n",
    "bag = db.from_sequence(stream_from_url(url))"
   ]
  },
  {
   "cell_type": "code",
   "execution_count": 13,
   "id": "b4d8d4d5-9394-4701-84c0-3c43303038b8",
   "metadata": {},
   "outputs": [
    {
     "name": "stdout",
     "output_type": "stream",
     "text": [
      "(\"LO! Death hath rear'd himself a throne\", 'In a strange city, all alone,', 'Far down within the dim west')\n"
     ]
    },
    {
     "name": "stderr",
     "output_type": "stream",
     "text": [
      "/home/user/micromamba/lib/python3.10/site-packages/dask/bag/core.py:2507: UserWarning: Insufficient elements for `take`. 10 elements requested, only 3 elements available. Try passing larger `npartitions` to `take`.\n",
      "  warnings.warn(\n"
     ]
    }
   ],
   "source": [
    "print(bag.take(10))"
   ]
  },
  {
   "cell_type": "code",
   "execution_count": 14,
   "id": "d16ec035-0a67-4bda-a0fc-bfa94a00368e",
   "metadata": {},
   "outputs": [],
   "source": [
    "import dask.bag as db\n",
    "import dask\n",
    "import requests\n",
    "\n",
    "@dask.delayed\n",
    "def load_url(url):\n",
    "    with requests.get(url, stream=True) as r:\n",
    "        return [line.decode('utf-8') for line in r.iter_lines() if line]\n",
    "\n",
    "url = \"https://raw.githubusercontent.com/lazyprogrammer/machine_learning_examples/master/hmm_class/edgar_allan_poe.txt\"\n",
    "delayed_bag = load_url(url)\n",
    "bag = db.from_delayed([delayed_bag])  # Convert the delayed object to a Dask Bag\n",
    "\n",
    "# Now you can operate on the bag as you normally would\n",
    "result = bag.filter(lambda x: \"fair\" in x).compute()"
   ]
  },
  {
   "cell_type": "code",
   "execution_count": 15,
   "id": "0c26eb66-536f-4e8e-ab26-b502a23feedf",
   "metadata": {},
   "outputs": [
    {
     "name": "stdout",
     "output_type": "stream",
     "text": [
      "(\"LO! Death hath rear'd himself a throne\", 'In a strange city, all alone,', 'Far down within the dim west', 'Where the good, and the bad, and the worst, and the best,', 'Have gone to their eternal rest.', '\\u2009', 'There shrines, and palaces, and towers', 'Are not like any thing of ours', 'Oh no! O no! ours never loom', 'To heaven with that ungodly gloom!')\n",
      "['Fair isle, that from the fairest of all flowers,', 'How fairy-like a melody there floats ', 'Once fair and stately palace --', 'Over fabric half so fair.', 'Was the fair palace door,']\n"
     ]
    }
   ],
   "source": [
    "print(bag.take(10))\n",
    "print(result)"
   ]
  },
  {
   "cell_type": "code",
   "execution_count": 16,
   "id": "e054cdd6-c650-4970-8842-5ca1af1d987d",
   "metadata": {},
   "outputs": [],
   "source": [
    "def stream_lines(url, lines_per_chunk=100):\n",
    "    buffer = []\n",
    "    with requests.get(url, stream=True) as r:\n",
    "        r.raise_for_status()\n",
    "        for line in r.iter_lines():\n",
    "            decoded_line = line.decode('utf-8')\n",
    "            buffer.append(decoded_line)\n",
    "            if len(buffer) == lines_per_chunk:\n",
    "                yield buffer\n",
    "                buffer = []\n",
    "        if buffer:  # handle any remaining lines\n",
    "            yield buffer"
   ]
  },
  {
   "cell_type": "code",
   "execution_count": 21,
   "id": "6549dc49-0c63-4d3f-b420-fc27cb46851b",
   "metadata": {},
   "outputs": [
    {
     "name": "stdout",
     "output_type": "stream",
     "text": [
      "[100, 100, 100, 100, 100, 100, 100, 97]\n"
     ]
    }
   ],
   "source": [
    "bag_of_lines = db.from_sequence(stream_lines(url))\n",
    "\n",
    "# Let's say you have a function to process the chunks\n",
    "def process_chunk(chunk, label):\n",
    "    # Do something with the chunk, e.g., return its length\n",
    "    bc = BayesianCorpus(chunk, label)\n",
    "    return len(chunk)\n",
    "\n",
    "# Map the function over the bag\n",
    "label = \"poe\"\n",
    "result_bag = bag_of_lines.map(lambda chunk: process_chunk(chunk, label))\n",
    "\n",
    "# Now, whenever you want to actually compute the results\n",
    "results = result_bag.compute()\n",
    "print(results)"
   ]
  },
  {
   "cell_type": "code",
   "execution_count": 22,
   "id": "8d906672-9bff-4dd7-92d9-7c9da343d1a9",
   "metadata": {},
   "outputs": [],
   "source": [
    "from bayesian_classifier.poems import BayesianCorpus, get_confusion_matrix, combine_vocabs"
   ]
  },
  {
   "cell_type": "code",
   "execution_count": null,
   "id": "ae6711a5-56a0-45a0-83d5-e556efb0982e",
   "metadata": {},
   "outputs": [],
   "source": []
  }
 ],
 "metadata": {
  "kernelspec": {
   "display_name": "Python 3 (ipykernel)",
   "language": "python",
   "name": "python3"
  },
  "language_info": {
   "codemirror_mode": {
    "name": "ipython",
    "version": 3
   },
   "file_extension": ".py",
   "mimetype": "text/x-python",
   "name": "python",
   "nbconvert_exporter": "python",
   "pygments_lexer": "ipython3",
   "version": "3.10.9"
  }
 },
 "nbformat": 4,
 "nbformat_minor": 5
}
