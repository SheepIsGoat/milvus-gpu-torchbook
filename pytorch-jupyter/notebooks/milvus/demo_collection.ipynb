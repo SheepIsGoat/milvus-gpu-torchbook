{
 "cells": [
  {
   "cell_type": "code",
   "execution_count": 1,
   "id": "e3851f5a-1fd1-45f4-a318-b065fc8f488f",
   "metadata": {},
   "outputs": [
    {
     "data": {
      "text/plain": [
       "['NVIDIA GeForce RTX 4090']"
      ]
     },
     "execution_count": 1,
     "metadata": {},
     "output_type": "execute_result"
    }
   ],
   "source": [
    "from cuda_checker.which import which_cuda\n",
    "which_cuda()"
   ]
  },
  {
   "cell_type": "code",
   "execution_count": 2,
   "id": "02820d64-97fc-4d60-bcd2-83c73aa43f7e",
   "metadata": {},
   "outputs": [
    {
     "data": {
      "text/plain": [
       "{'address': 'localhost:19530', 'user': 'username'}"
      ]
     },
     "execution_count": 2,
     "metadata": {},
     "output_type": "execute_result"
    }
   ],
   "source": [
    "from pymilvus import connections, Collection\n",
    "\n",
    "connections.connect(\n",
    "  alias=\"default\",\n",
    "  user='username',\n",
    "  password='password',\n",
    "  host='localhost',\n",
    "  port='19530'\n",
    ")\n",
    "connections.get_connection_addr(\"default\")"
   ]
  },
  {
   "cell_type": "code",
   "execution_count": 3,
   "id": "01795f8e-d354-48e4-8b61-5ca360f380bb",
   "metadata": {},
   "outputs": [],
   "source": [
    "from pymilvus import CollectionSchema, FieldSchema, DataType\n",
    "book_id = FieldSchema(\n",
    "  name=\"book_id\",\n",
    "  dtype=DataType.INT64,\n",
    "  is_primary=True,\n",
    ")\n",
    "book_name = FieldSchema(\n",
    "  name=\"book_name\",\n",
    "  dtype=DataType.VARCHAR,\n",
    "  max_length=200,\n",
    ")\n",
    "word_count = FieldSchema(\n",
    "  name=\"word_count\",\n",
    "  dtype=DataType.INT64,\n",
    ")\n",
    "book_intro = FieldSchema(\n",
    "  name=\"book_intro\",\n",
    "  dtype=DataType.FLOAT_VECTOR,\n",
    "  dim=2\n",
    ")\n",
    "schema = CollectionSchema(\n",
    "  fields=[book_id, book_name, word_count, book_intro],\n",
    "  description=\"Test book search\"\n",
    ")\n",
    "collection_name = \"book\""
   ]
  },
  {
   "cell_type": "code",
   "execution_count": 4,
   "id": "4417ac86-1e01-473b-9a50-94c064a3e664",
   "metadata": {},
   "outputs": [],
   "source": [
    "# Create collection\n",
    "collection = Collection(\n",
    "    name=collection_name,\n",
    "    schema=schema,\n",
    "    using='default',\n",
    "    shards_num=2\n",
    ")"
   ]
  },
  {
   "cell_type": "code",
   "execution_count": 5,
   "id": "4eeaeb6f-528a-4e13-a8ee-1a7d468335d5",
   "metadata": {},
   "outputs": [],
   "source": [
    "# Prepare data\n",
    "import random\n",
    "data = [\n",
    "  [i for i in range(2000)],\n",
    "  [str(i) for i in range(2000)],\n",
    "  [i for i in range(10000, 12000)],\n",
    "  [[random.random() for _ in range(2)] for _ in range(2000)],\n",
    "]\n",
    "\n",
    "mr = collection.insert(data)"
   ]
  },
  {
   "cell_type": "code",
   "execution_count": null,
   "id": "3b830f81-2b25-4093-9074-f652311d4905",
   "metadata": {},
   "outputs": [],
   "source": []
  }
 ],
 "metadata": {
  "kernelspec": {
   "display_name": "Python 3 (ipykernel)",
   "language": "python",
   "name": "python3"
  },
  "language_info": {
   "codemirror_mode": {
    "name": "ipython",
    "version": 3
   },
   "file_extension": ".py",
   "mimetype": "text/x-python",
   "name": "python",
   "nbconvert_exporter": "python",
   "pygments_lexer": "ipython3",
   "version": "3.10.9"
  }
 },
 "nbformat": 4,
 "nbformat_minor": 5
}
