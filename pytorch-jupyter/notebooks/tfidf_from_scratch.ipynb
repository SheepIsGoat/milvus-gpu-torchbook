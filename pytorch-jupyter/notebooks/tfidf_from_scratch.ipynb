{
 "cells": [
  {
   "cell_type": "code",
   "execution_count": 1,
   "id": "2604182b-bb78-4ea0-ade1-1f9cc4355164",
   "metadata": {},
   "outputs": [],
   "source": [
    "import requests\n",
    "import pandas as pd\n",
    "from io import BytesIO\n",
    "\n",
    "def get_csv_as_df(url):\n",
    "    res = requests.get(url)\n",
    "    with BytesIO(res.content) as f:\n",
    "        df = pd.read_csv(f)\n",
    "    return df"
   ]
  },
  {
   "cell_type": "code",
   "execution_count": 2,
   "id": "2a07bf78-a63c-481c-998d-9fa9f6b07607",
   "metadata": {},
   "outputs": [],
   "source": [
    "df = get_csv_as_df('https://lazyprogrammer.me/course_files/nlp/bbc_text_cls.csv')"
   ]
  },
  {
   "cell_type": "code",
   "execution_count": 3,
   "id": "2cc934af-2e19-4802-9494-1a5f7de52962",
   "metadata": {},
   "outputs": [
    {
     "data": {
      "text/html": [
       "<div>\n",
       "<style scoped>\n",
       "    .dataframe tbody tr th:only-of-type {\n",
       "        vertical-align: middle;\n",
       "    }\n",
       "\n",
       "    .dataframe tbody tr th {\n",
       "        vertical-align: top;\n",
       "    }\n",
       "\n",
       "    .dataframe thead th {\n",
       "        text-align: right;\n",
       "    }\n",
       "</style>\n",
       "<table border=\"1\" class=\"dataframe\">\n",
       "  <thead>\n",
       "    <tr style=\"text-align: right;\">\n",
       "      <th></th>\n",
       "      <th>text</th>\n",
       "      <th>labels</th>\n",
       "    </tr>\n",
       "  </thead>\n",
       "  <tbody>\n",
       "    <tr>\n",
       "      <th>0</th>\n",
       "      <td>Ad sales boost Time Warner profit\\n\\nQuarterly...</td>\n",
       "      <td>business</td>\n",
       "    </tr>\n",
       "    <tr>\n",
       "      <th>1</th>\n",
       "      <td>Dollar gains on Greenspan speech\\n\\nThe dollar...</td>\n",
       "      <td>business</td>\n",
       "    </tr>\n",
       "    <tr>\n",
       "      <th>2</th>\n",
       "      <td>Yukos unit buyer faces loan claim\\n\\nThe owner...</td>\n",
       "      <td>business</td>\n",
       "    </tr>\n",
       "    <tr>\n",
       "      <th>3</th>\n",
       "      <td>High fuel prices hit BA's profits\\n\\nBritish A...</td>\n",
       "      <td>business</td>\n",
       "    </tr>\n",
       "    <tr>\n",
       "      <th>4</th>\n",
       "      <td>Pernod takeover talk lifts Domecq\\n\\nShares in...</td>\n",
       "      <td>business</td>\n",
       "    </tr>\n",
       "  </tbody>\n",
       "</table>\n",
       "</div>"
      ],
      "text/plain": [
       "                                                text    labels\n",
       "0  Ad sales boost Time Warner profit\\n\\nQuarterly...  business\n",
       "1  Dollar gains on Greenspan speech\\n\\nThe dollar...  business\n",
       "2  Yukos unit buyer faces loan claim\\n\\nThe owner...  business\n",
       "3  High fuel prices hit BA's profits\\n\\nBritish A...  business\n",
       "4  Pernod takeover talk lifts Domecq\\n\\nShares in...  business"
      ]
     },
     "execution_count": 3,
     "metadata": {},
     "output_type": "execute_result"
    }
   ],
   "source": [
    "df.head()"
   ]
  },
  {
   "cell_type": "code",
   "execution_count": 4,
   "id": "454918f1-c7e2-4967-9f95-60c737358fb1",
   "metadata": {},
   "outputs": [],
   "source": [
    "import matplotlib.pyplot as plt\n",
    "import json\n",
    "\n",
    "from sklearn.feature_extraction.text import TfidfVectorizer\n",
    "from sklearn.metrics.pairwise import cosine_similarity, euclidean_distances\n",
    "import numpy as np\n",
    "import nltk\n",
    "from nltk import word_tokenize"
   ]
  },
  {
   "cell_type": "code",
   "execution_count": 5,
   "id": "0ce83c26-9c23-47ef-876e-4bfe84feec85",
   "metadata": {},
   "outputs": [
    {
     "name": "stderr",
     "output_type": "stream",
     "text": [
      "[nltk_data] Downloading package punkt to /home/user/nltk_data...\n",
      "[nltk_data]   Unzipping tokenizers/punkt.zip.\n"
     ]
    },
    {
     "data": {
      "text/plain": [
       "True"
      ]
     },
     "execution_count": 5,
     "metadata": {},
     "output_type": "execute_result"
    }
   ],
   "source": [
    "nltk.download('punkt')"
   ]
  },
  {
   "cell_type": "code",
   "execution_count": 6,
   "id": "e6eeabb3-89e4-425c-9bc8-c3024286ccf4",
   "metadata": {},
   "outputs": [],
   "source": [
    "num_docs = len(df['text'])"
   ]
  },
  {
   "cell_type": "code",
   "execution_count": 8,
   "id": "11910048-24ee-4330-bc5f-7a3f5cca129d",
   "metadata": {},
   "outputs": [],
   "source": [
    "from collections import Counter\n",
    "def tokens2idx(tokenized_docs):\n",
    "    unique_tokens = {\n",
    "        tok for token_doc in tokenized_docs\n",
    "        for tok in token_doc \n",
    "    }\n",
    "    return {token:i for i, token in enumerate(unique_tokens)}\n",
    "\n",
    "def count_tokens(tokenized_docs):\n",
    "    return [\n",
    "        Counter(doc) for doc in tokenized_docs\n",
    "    ]\n",
    "\n",
    "def create_word2idx(series):\n",
    "    make_tokenized_docs = lambda: (word_tokenize(doc.lower()) for doc in series)\n",
    "    mapping = tokens2idx(make_tokenized_docs())\n",
    "    counted_docs = count_tokens(make_tokenized_docs())\n",
    "    return counted_docs, mapping"
   ]
  },
  {
   "cell_type": "code",
   "execution_count": 9,
   "id": "e7e242bb-9c11-410d-afd2-7b96d9259580",
   "metadata": {},
   "outputs": [],
   "source": [
    "counted_docs, word2idx = create_word2idx(df['text'])"
   ]
  },
  {
   "cell_type": "code",
   "execution_count": 10,
   "id": "6fa94d2b-c701-45e6-91e1-d97ef3a0346b",
   "metadata": {},
   "outputs": [],
   "source": [
    "num_words = len(word2idx)\n",
    "idx2word = [None]*num_words\n",
    "for word, idx in word2idx.items():\n",
    "    idx2word[idx] = word"
   ]
  },
  {
   "cell_type": "code",
   "execution_count": 13,
   "id": "bbe591ba-dc76-436a-9848-e65f731771eb",
   "metadata": {},
   "outputs": [],
   "source": [
    "def count2array(counted_docs, mapping):\n",
    "    freq_array = np.zeros((num_docs, len(mapping)))\n",
    "    for row_idx, count in enumerate(counted_docs):\n",
    "        for tok_idx, word in enumerate(idx2word):\n",
    "            freq_array[row_idx][tok_idx] = count.get(word, 0)\n",
    "    return freq_array"
   ]
  },
  {
   "cell_type": "code",
   "execution_count": 18,
   "id": "96b3a347-f19c-4728-b8b3-f09914ad0aa2",
   "metadata": {},
   "outputs": [],
   "source": [
    "tf = count2array(counted_docs, word2idx)"
   ]
  },
  {
   "cell_type": "code",
   "execution_count": 20,
   "id": "84c80ef6-f784-4e60-989f-1f4f5f99a3cf",
   "metadata": {},
   "outputs": [],
   "source": [
    "document_freq = np.sum(tf > 0, axis=0) # document frequency (shape = (V,))\n",
    "idf = np.log(num_docs / document_freq)"
   ]
  },
  {
   "cell_type": "code",
   "execution_count": 21,
   "id": "ee1788cf-16c0-4218-93e5-73cbd499bb64",
   "metadata": {},
   "outputs": [],
   "source": [
    "tfidf = tf*idf"
   ]
  },
  {
   "cell_type": "code",
   "execution_count": 23,
   "id": "3ece9f55-0a58-4ef6-bc31-728fffe5f42a",
   "metadata": {},
   "outputs": [
    {
     "data": {
      "text/plain": [
       "array([0., 0., 0., ..., 0., 0., 0.])"
      ]
     },
     "execution_count": 23,
     "metadata": {},
     "output_type": "execute_result"
    }
   ],
   "source": [
    "tfidf[0]"
   ]
  },
  {
   "cell_type": "code",
   "execution_count": 25,
   "id": "14073544-d321-41da-9217-925a42234349",
   "metadata": {},
   "outputs": [
    {
     "name": "stdout",
     "output_type": "stream",
     "text": [
      "Label: politics\n",
      "Text: Report attacks defence spending\n",
      "Top 5 terms:\n",
      "defence\n",
      "projects\n",
      "procurement\n",
      "nao\n",
      "delays\n"
     ]
    }
   ],
   "source": [
    "i = np.random.choice(num_docs)\n",
    "row = df.iloc[i]\n",
    "print(\"Label:\", row['labels'])\n",
    "print(\"Text:\", row['text'].split(\"\\n\", 1)[0])\n",
    "print(\"Top 5 terms:\")\n",
    "\n",
    "scores = tfidf[i]\n",
    "indices = (-scores).argsort()\n",
    "\n",
    "for j in indices[:5]:\n",
    "  print(idx2word[j])"
   ]
  },
  {
   "cell_type": "code",
   "execution_count": null,
   "id": "b6584699-68f0-472a-971e-0ab4ee049e6b",
   "metadata": {},
   "outputs": [],
   "source": []
  }
 ],
 "metadata": {
  "kernelspec": {
   "display_name": "Python 3 (ipykernel)",
   "language": "python",
   "name": "python3"
  },
  "language_info": {
   "codemirror_mode": {
    "name": "ipython",
    "version": 3
   },
   "file_extension": ".py",
   "mimetype": "text/x-python",
   "name": "python",
   "nbconvert_exporter": "python",
   "pygments_lexer": "ipython3",
   "version": "3.10.9"
  }
 },
 "nbformat": 4,
 "nbformat_minor": 5
}
