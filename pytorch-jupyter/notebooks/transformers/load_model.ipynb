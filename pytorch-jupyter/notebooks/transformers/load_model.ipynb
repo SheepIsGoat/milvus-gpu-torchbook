{
 "cells": [
  {
   "cell_type": "code",
   "execution_count": null,
   "metadata": {},
   "outputs": [],
   "source": [
    "from safetensors import safe_open\n",
    "\n",
    "def load_tensors(\n",
    "        path: str\n",
    "    ):\n",
    "    with safe_open(path, framework=\"pt\", device=0) as f:\n",
    "        return {f.get_tensor(k) for k in f.keys()}\n",
    "    \n",
    "w30b4_tensors = load_tensors(\n",
    "    \"/app/models/\"\n",
    "    \"WizardLM-30B-Uncensored-GPTQ-4-bit/\"\n",
    "    \"WizardLM-30B-Uncensored-GPTQ-4bit.act-order.safetensors\"\n",
    ")"
   ]
  }
 ],
 "metadata": {
  "language_info": {
   "name": "python"
  },
  "orig_nbformat": 4
 },
 "nbformat": 4,
 "nbformat_minor": 2
}
