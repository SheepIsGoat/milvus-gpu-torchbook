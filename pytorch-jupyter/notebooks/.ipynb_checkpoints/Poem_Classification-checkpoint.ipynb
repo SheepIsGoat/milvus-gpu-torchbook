{
 "cells": [
  {
   "cell_type": "code",
   "execution_count": 68,
   "id": "593cbcde-ffa9-4e58-8da7-8f8741b7be0e",
   "metadata": {},
   "outputs": [],
   "source": [
    "import requests\n",
    "raw_poe = requests.get('https://raw.githubusercontent.com/lazyprogrammer/machine_learning_examples/master/hmm_class/edgar_allan_poe.txt').content\n",
    "raw_frost = requests.get('https://raw.githubusercontent.com/lazyprogrammer/machine_learning_examples/master/hmm_class/robert_frost.txt').content"
   ]
  },
  {
   "cell_type": "code",
   "execution_count": 483,
   "id": "76a3929b-7aa7-49d1-953a-030b0699f7be",
   "metadata": {},
   "outputs": [],
   "source": [
    "import numpy as np\n",
    "import dask.array as da\n",
    "import spacy\n",
    "nlp = spacy.load(\"en_core_web_sm\")\n",
    "\n",
    "def decode_text(text):\n",
    "    return bytes(text.decode(\"utf-8\"), \"utf-8\").decode(\"unicode_escape\")\n",
    "\n",
    "def make_arr_rectangular(jagged_array):\n",
    "    width = max((len(row) for row in jagged_array))\n",
    "    right_pad = lambda row: row + [\"\"]*(width-len(row))\n",
    "    return [right_pad(row) for row in jagged_array]\n",
    "\n",
    "def tokenize_line(line):\n",
    "    return [token.lemma_ for token in nlp(line)]\n",
    "\n",
    "def process_text(text, chunksize=500, pad=False):\n",
    "    enc_dec = decode_text(text)\n",
    "    jagged_array = [tokenize_line(line) for line in enc_dec.split(\"\\n\")]\n",
    "    array = make_arr_rectangular(jagged_array) if pad else jagged_array\n",
    "    return np.array(array, dtype=str if pad else object)"
   ]
  },
  {
   "cell_type": "code",
   "execution_count": 297,
   "id": "b8cdb8d2-25fd-4394-b427-7bcc5e122148",
   "metadata": {},
   "outputs": [],
   "source": [
    "from sklearn.model_selection import train_test_split\n",
    "def test_split_text(text):\n",
    "    array = process_text(text, pad=True)\n",
    "    return train_test_split(array, random_state=1)\n",
    "    \n",
    "poe_train, poe_test = test_split_text(raw_poe)\n",
    "frost_train, frost_test = test_split_text(raw_frost)"
   ]
  },
  {
   "cell_type": "code",
   "execution_count": 463,
   "id": "54666841-91a5-4b46-95ae-f475ff2deed9",
   "metadata": {},
   "outputs": [
    {
     "name": "stdout",
     "output_type": "stream",
     "text": [
      "Vocab counts - poe: 1045, frost: 1585, total: 2239\n"
     ]
    }
   ],
   "source": [
    "base = np.array([\"$BEGINCHAR$\", \"$ENDCHAR$\", \"$NEWCHAR$\"])\n",
    "vocab_p = np.unique(poe_train)\n",
    "vocab_f = np.unique(frost_train)\n",
    "combined_vocab = np.unique(np.concatenate([vocab_p, vocab_f]))\n",
    "total_vocab = np.concatenate([base, combined_vocab])\n",
    "vocab_size = len(total_vocab)\n",
    "print(f\"Vocab counts - poe: {len(vocab_p)}, frost: {len(vocab_f)}, total: {vocab_size}\")"
   ]
  },
  {
   "cell_type": "code",
   "execution_count": 464,
   "id": "b5373656-2d2b-482e-81bc-18feca3aa803",
   "metadata": {},
   "outputs": [],
   "source": [
    "idx2word = total_vocab\n",
    "word2idx = {word:idx for idx, word in enumerate(idx2word)}"
   ]
  },
  {
   "cell_type": "code",
   "execution_count": 474,
   "id": "0ecfa5c3-b328-41e9-8b42-c505b548dbdb",
   "metadata": {},
   "outputs": [],
   "source": [
    "def map_word2idx(val):\n",
    "    return word2idx.get(val, 2)\n",
    "vectorized_word2idx = np.vectorize(map_word2idx)"
   ]
  },
  {
   "cell_type": "code",
   "execution_count": 466,
   "id": "1d75d86d-4c36-48db-bbed-2e85695309f6",
   "metadata": {},
   "outputs": [],
   "source": [
    "poe_vec_t = vectorized_word2idx(poe_train)\n",
    "frost_vec_t = vectorized_word2idx(frost_train)"
   ]
  },
  {
   "cell_type": "code",
   "execution_count": 467,
   "id": "af315f3c-1c62-41d7-9377-00cd7bb1b1d2",
   "metadata": {},
   "outputs": [],
   "source": [
    "def count_corpora(corpora, vocab_size):\n",
    "    count = np.zeros(vocab_size, dtype=int)\n",
    "    all_values = np.concatenate([corpus.ravel() for corpus in corpora])\n",
    "    np.add.at(count, all_values, 1)\n",
    "    return count\n",
    "\n",
    "corpora = [poe_vec_t, frost_vec_t]\n",
    "word_counter = count_corpora(corpora, vocab_size)"
   ]
  },
  {
   "cell_type": "code",
   "execution_count": 468,
   "id": "1d74e230-5ca0-4429-9c4d-5befc48a275d",
   "metadata": {},
   "outputs": [],
   "source": [
    "def get_transition_matrix(vec_arr, vocab_size, epsilon_smoothing=0.2):\n",
    "\n",
    "    # Account for unknown words\n",
    "    vocab_size += 1\n",
    "    \n",
    "    # Initialize matrices with zeros\n",
    "    trans_mat = np.zeros((vocab_size, vocab_size))\n",
    "    init_mat = np.zeros(vocab_size)\n",
    "    \n",
    "    # For the initial states\n",
    "    starts = vec_arr[:, 0]\n",
    "    init_counts, _ = np.histogram(starts, bins=np.arange(vocab_size + 1))\n",
    "    init_mat += init_counts\n",
    "\n",
    "    # For the transitions\n",
    "    y, x = vec_arr[:, :-1].ravel(), vec_arr[:, 1:].ravel()\n",
    "    hist, _, _ = np.histogram2d(x, y, bins=(vocab_size, vocab_size))\n",
    "    trans_mat += hist\n",
    "    \n",
    "    # Apply epsilon smoothing\n",
    "    trans_mat += epsilon_smoothing\n",
    "    init_mat += epsilon_smoothing\n",
    "\n",
    "    # Normalize\n",
    "    normalized_trans_mat = trans_mat / trans_mat.sum(axis=1, keepdims=True)\n",
    "    normalized_init_mat = init_mat / init_mat.sum()\n",
    "    \n",
    "    return normalized_trans_mat, normalized_init_mat"
   ]
  },
  {
   "cell_type": "code",
   "execution_count": 469,
   "id": "ed4025be-866a-4645-ac1f-24f4788aa896",
   "metadata": {},
   "outputs": [],
   "source": [
    "poe_t_mat, summy = get_transition_matrix(poe_vec_t, vocab_size)\n",
    "frost_t_mat, _ = get_transition_matrix(frost_vec_t, vocab_size)"
   ]
  },
  {
   "cell_type": "code",
   "execution_count": 470,
   "id": "fb767a8a-caac-458d-ad9c-c17289fe56e7",
   "metadata": {},
   "outputs": [],
   "source": [
    "import math\n",
    "def get_logprob_mat(t_mat):\n",
    "    vec_log = np.vectorize(math.log)\n",
    "    return vec_log(t_mat)"
   ]
  },
  {
   "cell_type": "code",
   "execution_count": 480,
   "id": "b70daf26-0034-4b5f-9cd1-7f82af7f9321",
   "metadata": {},
   "outputs": [],
   "source": [
    "poe_logprob_t = get_logprob_mat(poe_t_mat)\n",
    "frost_logprob_t = get_logprob_mat(frost_t_mat)"
   ]
  },
  {
   "cell_type": "code",
   "execution_count": 472,
   "id": "176b2885-4d5e-433d-9b71-b29a59178efc",
   "metadata": {},
   "outputs": [],
   "source": [
    "def get_argprob(sequence, logprob_mat, vectorized_word2idx):\n",
    "    encoded_sequence = vectorized_word2idx(sequence)\n",
    "    argsum = 0\n",
    "    for i in range(len(encoded_sequence)-1):\n",
    "        argsum += logprob_mat[i, i+1]\n",
    "    return argsum"
   ]
  },
  {
   "cell_type": "code",
   "execution_count": 487,
   "id": "53eb41af-2f5c-47eb-83f4-1bf230e62b8d",
   "metadata": {},
   "outputs": [],
   "source": [
    "line = \"These were days when my heart was volcanic As the scoriac rivers that roll\"\n",
    "seq = np.array(tokenize_line(line))\n",
    "ap_1 = get_argprob(seq, poe_logprob_t, vectorized_word2idx)\n",
    "ap_2 = get_argprob(seq, frost_logprob_t, vectorized_word2idx)"
   ]
  },
  {
   "cell_type": "code",
   "execution_count": 488,
   "id": "cffccf27-9380-4b67-92d9-ae58c674db1b",
   "metadata": {},
   "outputs": [
    {
     "name": "stdout",
     "output_type": "stream",
     "text": [
      "-96.00104407028091\n",
      "-100.89728561566\n"
     ]
    }
   ],
   "source": [
    "print(ap_1)\n",
    "print(ap_2)"
   ]
  },
  {
   "cell_type": "code",
   "execution_count": 486,
   "id": "88871c44-37a5-4b4a-a8be-a0a507a989fc",
   "metadata": {},
   "outputs": [
    {
     "data": {
      "text/plain": [
       "b'LO! Death hath rear\\'d himself a throne\\nIn a strange city, all alone,\\nFar down within the dim west\\nWhere the good, and the bad, and the worst, and the best,\\nHave gone to their eternal rest.\\n\\xe2\\x80\\x89\\nThere shrines, and palaces, and towers\\nAre not like any thing of ours\\nOh no! O no! ours never loom\\nTo heaven with that ungodly gloom!\\nTime-eaten towers that tremble not!\\nResemble nothing that is ours.\\nAround, by lifting winds forgot,\\nResignedly beneath the sky\\nThe melancholy waters lie.\\n\\xe2\\x80\\x89\\nNo holy rays from heaven come down\\nOn the long night-time of that town,\\nBut light from out the lurid sea\\nStreams up the turrets silently\\nUp thrones up long-forgotten bowers\\nOf scultur\\'d ivy and stone flowers\\nUp domes up spires up kingly halls\\nUp fanes up Babylon-like walls\\nUp many a melancholy shrine\\nWhose entablatures intertwine\\nThe mask the viol and the vine.\\n\\xe2\\x80\\x89\\nThere open temples open graves\\nAre on a level with the waves\\nBut not the riches there that lie\\nIn each idol\\'s diamond eye,\\nNot the gaily-jewell\\'d dead\\nTempt the waters from their bed:\\nFor no ripples curl, alas!\\nAlong that wilderness of glass\\nNo swellings hint that winds may be\\nUpon a far-off happier sea:\\nSo blend the turrets and shadows there\\nThat all seem pendulous in air,\\nWhile from the high towers of the town\\nDeath looks gigantically down.\\n\\xe2\\x80\\x89\\nBut lo! a stir is in the air!\\nThe wave there is a ripple there!\\nAs if the towers had thrown aside,\\nIn slightly sinking, the dull tide\\nAs if the turret-tops had given\\nA vacuum in the filmy heaven.\\nThe waves have now a redder glow\\nThe very hours are breathing low\\nAnd when, amid no earthly moans,\\nDown, down, that town shall settle hence,\\nAll Hades, from a thousand thrones,\\nShall do it reverence,\\nAnd Death to some more happy clime\\nShall give his undivided time.\\n\\nThe skies they were ashen and sober;\\nThe leaves they were crisped and sere -\\nThe leaves they were withering and sere;\\nIt was night in the lonesome October\\nOf my most immemorial year;\\nIt was hard by the dim lake of Auber,\\nIn the misty mid region of Weir -\\nIt was down by the dank tarn of Auber,\\nIn the ghoul-haunted woodland of Weir.\\n\\nHere once, through an alley Titanic,\\nOf cypress, I roamed with my Soul -\\nOf cypress, with Psyche, my Soul.\\nThese were days when my heart was volcanic\\nAs the scoriac rivers that roll -\\nAs the lavas that restlessly roll\\nTheir sulphurous currents down Yaanek\\nIn the ultimate climes of the pole -\\nThat groan as they roll down Mount Yaanek\\nIn the realms of the boreal pole.\\n\\nOur talk had been serious and sober,\\nBut our thoughts they were palsied and sere -\\nOur memories were treacherous and sere, -\\nFor we knew not the month was October,\\nAnd we marked not the night of the year -\\n(Ah, night of all nights in the year!)\\nWe noted not the dim lake of Auber -\\n(Though once we had journey down here),\\nRemembered not the dank tarn of Auber,\\nNor the ghoul-haunted woodland of Weir.\\n\\nAnd now, as the night was senescent,\\nAnd star-dials pointed to morn -\\nAs the star-dials hinted of morn -\\nAt the end of our path a liquescent\\nAnd nebulous lustre was born,\\nOut of which a miraculous crescent\\nArose with a duplicate horn -\\nAstarte\\'s bediamonded crescent\\nDistinct with its duplicate horn.\\n\\nAnd I said - \"She is warmer than Dian:\\nShe rolls through an ether of sighs -\\nShe revels in a region of sighs:\\nShe has seen that the tears are not dry on\\nThese cheeks, where the worm never dies,\\nAnd has come past the stars of the Lion\\nTo point us the path to the skies -\\nTo the Lethean peace of the skies -\\nCome up, in despite of the Lion,\\nTo shine on us with her bright eyes -\\nCome up through the lair of the Lion,\\nWith love in her luminous eyes.\"\\n\\nBut Psyche, uplifting her finger,\\nSaid - \"Sadly this star I mistrust -\\nHer pallor I strangely mistrust: -\\nOh, hasten! - oh, let us not linger!\\nOh, fly! - let us fly! - for we must.\"\\nIn terror she spoke, letting sink her\\nWings until they trailed in the dust -\\nIn agony sobbed, letting sink her\\nPlumes till they trailed in the dust -\\nTill they sorrowfully trailed in the dust.\\n\\nI replied - \"This is nothing but dreaming:\\nLet us on by this tremulous light!\\nLet us bathe in this crystalline light!\\nIts Sybilic splendor is beaming\\nWith Hope and in Beauty to-night! -\\nSee! - it flickers up the sky through the night!\\nAh, we safely may trust to its gleaming,\\nAnd be sure it will lead us aright -\\nWe safely may trust to a gleaming,\\nThat cannot but guide us aright,\\nSince it flickers up to Heaven through the night.\"\\n\\nThus I pacified Psyche and kissed her,\\nAnd tempted her out of her gloom -\\nAnd conquered her scruples and gloom;\\nAnd we passed to the end of the vista,\\nBut were stopped by the door of a tomb -\\nBy the door of a legended tomb;\\nAnd I said - \"What is written, sweet sister,\\nOn the door of this legended tomb?\"\\nShe replied - \"Ulalume - Ulalume -\\n\\xe2\\x80\\x98Tis the vault of thy lost Ulalume!\"\\n\\nThen my heart it grew ashen and sober\\nAs the leaves that were crisped and sere -\\nAs the leaves that were withering and sere,\\nAnd I cried - \"It was surely October\\nOn this very night of last year\\nThat I journeyed - I journeyed down here -\\nThat I brought a dread burden down here!\\nOn this night of all nights in the year,\\nAh, what demon has tempted me here?\\nWell I know, now, this dim lake of Auber -\\nThis misty mid region of Weir -\\nWell I know, now, this dank tarn of Auber, -\\nThis ghoul-haunted woodland of Weir.\"\\n\\nWreathed in myrtle, my sword I\\'ll conceal\\nLike those champions devoted and brave,\\nWhen they plunged in the tyrant their steel,\\nAnd to Athens deliverance gave. \\n\\nBeloved heroes! your deathless souls roam\\nIn the joy breathing isles of the blest;\\nWhere the mighty of old have their home -\\nWhere Achilles and Diomed rest. \\n\\nIn fresh myrtle my blade I\\'ll entwine,\\nLike Harmodious, the gallant and good,\\nWhen he made at the tutelar shrine\\nA libation of Tyranny\\'s blood. \\n\\nYe deliverers of Athens from shame!\\nYe avengers of Liberty\\'s wrongs!\\nEndless ages shall cherish your fame\\nEmbalmed in their echoing songs!\\n\\nOf all who hail thy presence as the morning-\\nOf all to whom thine absence is the night-\\nThe blotting utterly from out high heaven\\nThe sacred sun- of all who, weeping, bless thee\\nHourly for hope- for life- ah! above all,\\nFor the resurrection of deep-buried faith\\nIn Truth- in Virtue- in Humanity-\\nOf all who, on Despair\\'s unhallowed bed\\nLying down to die, have suddenly arisen\\nAt thy soft-murmured words, \\'Let there be light!\\'\\nAt the soft-murmured words that were fulfilled\\nIn the seraphic glancing of thine eyes-\\nOf all who owe thee most- whose gratitude\\nNearest resembles worship- oh, remember\\nThe truest- the most fervently devoted,\\nAnd think that these weak lines are written by him-\\nBy him who, as he pens them, thrills to think\\nHis spirit is communing with an angel\\'s. \\n\\nThou wouldst be loved?- then let thy heart\\nFrom its present pathway part not!\\nBeing everything which now thou art,\\nBe nothing which thou art not.\\nSo with the world thy gentle ways,\\nThy grace, thy more than beauty,\\nShall be an endless theme of praise,\\nAnd love- a simple duty. \\n\\nWhen from your gems of thought I turn \\nTo those pure orbs, your heart to learn, \\nI scarce know which to prize most high \\nThe bright i-dea, or the bright dear-eye.\\n\\nOf all who hail thy presence as the morning-\\nOf all to whom thine absence is the night-\\nThe blotting utterly from out high heaven\\nThe sacred sun- of all who, weeping, bless thee\\nHourly for hope- for life- ah! above all,\\nFor the resurrection of deep-buried faith\\nIn Truth- in Virtue- in Humanity-\\nOf all who, on Despair\\'s unhallowed bed\\nLying down to die, have suddenly arisen\\nAt thy soft-murmured words, \"Let there be light!\"\\nAt the soft-murmured words that were fulfilled\\nIn the seraphic glancing of thine eyes-\\nOf all who owe thee most- whose gratitude\\nNearest resembles worship- oh, remember\\nThe truest- the most fervently devoted,\\nAnd think that these weak lines are written by him-\\nBy him who, as he pens them, thrills to think\\nHis spirit is communing with an angel\\'s.\\n\\nFair isle, that from the fairest of all flowers,\\nThy gentlest of all gentle names dost take!\\nHow many memories of what radiant hours\\nAt sight of thee and thine at once awake!\\nHow many scenes of what departed bliss!\\nHow many thoughts of what entombed hopes!\\nHow many visions of a maiden that is\\nNo more- no more upon thy verdant slopes!\\nNo more! alas, that magical sad sound\\nTransforming all! Thy charms shall please no more-\\nThy memory no more! Accursed ground\\nHenceforth I hold thy flower-enameled shore,\\nO hyacinthine isle! O purple Zante!\\n\"Isola d\\'oro! Fior di Levante!\"\\n\\nO! I care not that my earthly lot\\nHath little of Earth in it,\\nThat years of love have been forgot\\nIn the fever of a minute:\\n\\nI heed not that the desolate\\nAre happier, sweet, than I,\\nBut that you meddle with my fate\\nWho am a passer by.\\n\\nIt is not that my founts of bliss\\nAre gushing- strange! with tears-\\nOr that the thrill of a single kiss\\nHath palsied many years-\\n\\n\\'Tis not that the flowers of twenty springs\\nWhich have wither\\'d as they rose\\nLie dead on my heart-strings\\nWith the weight of an age of snows.\\n\\nNot that the grass- O! may it thrive!\\nOn my grave is growing or grown-\\nBut that, while I am dead yet alive\\nI cannot be, lady, alone.\\n\\nSancta Maria! turn thine eyes -\\nUpon the sinner\\'s sacrifice,\\nOf fervent prayer and humble love,\\nFrom thy holy throne above. \\nAt morn - at noon - at twilight dim -\\nMaria! thou hast heard my hymn!\\nIn joy and wo - in good and ill -\\nMother of God, be with me still! \\n\\nWhen the Hours flew brightly by,\\nAnd not a cloud obscured the sky,\\nMy soul, lest it should truant be,\\nThy grace did guide to thine and thee; \\n\\nNow, when storms of Fate o\\'ercast\\nDarkly my Present and my Past,\\nLet my Future radiant shine\\nWith sweet hopes of thee and thine!\\n\\nThe bells! ah, the bells! \\nThe little silver bells! \\nHow fairy-like a melody there floats \\nFrom their throats. \\nFrom their merry little throats \\nFrom the silver, tinkling throats \\nOf the bells, bells, bells \\nOf the bells! \\n\\nThe bells! ah, the bells! \\nThe heavy iron bells! \\nHow horrible a monody there floats \\nFrom their throats \\nFrom their deep-toned throats \\nFrom their melancholy throats! \\nHow I shudder at the notes \\nOf the bells, bells, bells \\nOf the bells!\\n\\nHow often we forget all time, when lone\\nAdmiring Nature\\'s universal throne;\\nHer woods- her wilds- her mountains- the intense\\nReply of HERS to OUR intelligence!\\n\\nIn youth have I known one with whom the Earth\\nIn secret communing held- as he with it,\\nIn daylight, and in beauty from his birth:\\nWhose fervid, flickering torch of life was lit\\nFrom the sun and stars, whence he had drawn forth\\nA passionate light- such for his spirit was fit-\\nAnd yet that spirit knew not, in the hour\\nOf its own fervor what had o\\'er it power.\\n\\nPerhaps it may be that my mind is wrought\\nTo a fever by the moonbeam that hangs o\\'er,\\nBut I will half believe that wild light fraught\\nWith more of sovereignty than ancient lore\\nHath ever told- or is it of a thought\\nThe unembodied essence, and no more,\\nThat with a quickening spell doth o\\'er us pass\\nAs dew of the night-time o\\'er the summer grass?\\n\\nDoth o\\'er us pass, when, as th\\' expanding eye\\nTo the loved object- so the tear to the lid\\nWill start, which lately slept in apathy?\\nAnd yet it need not be- (that object) hid\\nFrom us in life- but common- which doth lie\\nEach hour before us- but then only, bid\\nWith a strange sound, as of a harp-string broken,\\nTo awake us- \\'Tis a symbol and a token\\n\\nOf what in other worlds shall be- and given\\nIn beauty by our God, to those alone\\nWho otherwise would fall from life and Heaven\\nDrawn by their heart\\'s passion, and that tone,\\nThat high tone of the spirit which hath striven,\\nTho\\' not with Faith- with godliness- whose throne\\nWith desperate energy \\'t hath beaten down;\\nWearing its own deep feeling as a crown.\\n\\nNot long ago, the writer of these lines,\\nIn the mad pride of intellectuality,\\nMaintained \"the power of words\"- denied that ever\\nA thought arose within the human brain\\nBeyond the utterance of the human tongue:\\nAnd now, as if in mockery of that boast,\\nTwo words- two foreign soft dissyllables-\\nItalian tones, made only to be murmured\\nBy angels dreaming in the moonlit \"dew\\nThat hangs like chains of pearl on Hermon hill,\"\\nHave stirred from out the abysses of his heart,\\nUnthought-like thoughts that are the souls of thought,\\nRicher, far wilder, far diviner visions\\nThan even seraph harper, Israfel,\\n(Who has \"the sweetest voice of all God\\'s creatures,\")\\nCould hope to utter. And I! my spells are broken.\\nThe pen falls powerless from my shivering hand.\\nWith thy dear name as text, though bidden by thee,\\nI cannot write- I cannot speak or think-\\nAlas, I cannot feel; for \\'tis not feeling,\\nThis standing motionless upon the golden\\nThreshold of the wide-open gate of dreams.\\nGazing, entranced, adown the gorgeous vista,\\nAnd thrilling as I see, upon the right,\\nUpon the left, and all the way along,\\nAmid empurpled vapors, far away\\nTo where the prospect terminates- thee only.\\n\\nBeloved! amid the earnest woes\\nThat crowd around my earthly path-\\n(Drear path, alas! where grows\\nNot even one lonely rose)-\\nMy soul at least a solace hath\\nIn dreams of thee, and therein knows\\nAn Eden of bland repose.\\n\\nAnd thus thy memory is to me\\nLike some enchanted far-off isle\\nIn some tumultuous sea-\\nSome ocean throbbing far and free\\nWith storms- but where meanwhile\\nSerenest skies continually\\nJust o\\'er that one bright island smile.\\n\\nI saw thee once- once only- years ago: \\nI must not say how many- but not many. \\nIt was a July midnight; and from out \\nA full-orbed moon, that, like thine own soul, soaring, \\nSought a precipitate pathway up through heaven, \\nThere fell a silvery-silken veil of light, \\nWith quietude, and sultriness, and slumber, \\nUpon the upturned faces of a thousand \\nRoses that grew in an enchanted garden, \\nWhere no wind dared to stir, unless on tiptoe- \\nFell on the upturn\\'d faces of these roses \\nThat gave out, in return for the love-light, \\nTheir odorous souls in an ecstatic death- \\nFell on the upturn\\'d faces of these roses \\nThat smiled and died in this parterre, enchanted \\nBy thee, and by the poetry of thy presence. \\nClad all in white, upon a violet bank \\nI saw thee half reclining; while the moon \\nFell on the upturn\\'d faces of the roses, \\nAnd on thine own, upturn\\'d- alas, in sorrow! \\n\\nWas it not Fate, that, on this July midnight- \\nWas it not Fate, (whose name is also Sorrow,) \\nThat bade me pause before that garden-gate, \\nTo breathe the incense of those slumbering roses? \\nNo footstep stirred: the hated world an slept, \\nSave only thee and me. (Oh, Heaven!- oh, God! \\nHow my heart beats in coupling those two words!) \\nSave only thee and me. I paused- I looked- \\nAnd in an instant all things disappeared. \\n(Ah, bear in mind this garden was enchanted!) \\n\\nThe pearly lustre of the moon went out: \\nThe mossy banks and the meandering paths, \\nThe happy flowers and the repining trees, \\nWere seen no more: the very roses\\' odors \\nDied in the arms of the adoring airs. \\nAll- all expired save thee- save less than thou: \\nSave only the divine light in thine eyes- \\nSave but the soul in thine uplifted eyes. \\nI saw but them- they were the world to me! \\nI saw but them- saw only them for hours, \\nSaw only them until the moon went down. \\nWhat wild heart-histories seemed to he enwritten \\nUpon those crystalline, celestial spheres! \\nHow dark a woe, yet how sublime a hope! \\nHow silently serene a sea of pride! \\nHow daring an ambition; yet how deep- \\nHow fathomless a capacity for love! \\n\\nBut now, at length, dear Dian sank from sight, \\nInto a western couch of thunder-cloud; \\nAnd thou, a ghost, amid the entombing trees \\nDidst glide away. Only thine eyes remained; \\nThey would not go- they never yet have gone; \\nLighting my lonely pathway home that night, \\nThey have not left me (as my hopes have) since; \\nThey follow me- they lead me through the years. \\nThey are my ministers- yet I their slave. \\nTheir office is to illumine and enkindle- \\nMy duty, to be saved by their bright light, \\nAnd purified in their electric fire, \\nAnd sanctified in their elysian fire. \\nThey fill my soul with Beauty (which is Hope), \\nAnd are far up in Heaven- the stars I kneel to \\nIn the sad, silent watches of my night; \\nWhile even in the meridian glare of day \\nI see them still- two sweetly scintillant \\nVenuses, unextinguished by the sun!\\n\\nThe bowers whereat, in dreams, I see\\nThe wantonest singing birds,\\nAre lips- and all thy melody\\nOf lip-begotten words-\\n\\nThine eyes, in Heaven of heart enshrined,\\nThen desolately fall,\\nO God! on my funereal mind\\nLike starlight on a pall-\\n\\nThy heart- thy heart!- I wake and sigh,\\nAnd sleep to dream till day\\nOf the truth that gold can never buy-\\nOf the baubles that it may.\\n\\nIn Heaven a spirit doth dwell\\n\"Whose heart-strings are a lute\";\\nNone sing so wildly well\\nAs the angel Israfel,\\nAnd the giddy stars (so legends tell),\\nCeasing their hymns, attend the spell\\nOf his voice, all mute.\\n\\nTottering above\\nIn her highest noon,\\nThe enamored moon\\nBlushes with love,\\nWhile, to listen, the red levin\\n(With the rapid Pleiads, even,\\nWhich were seven,)\\nPauses in Heaven.\\n\\nAnd they say (the starry choir\\nAnd the other listening things)\\nThat Israfeli\\'s fire\\nIs owing to that lyre\\nBy which he sits and sings-\\nThe trembling living wire\\nOf those unusual strings.\\n\\nBut the skies that angel trod,\\nWhere deep thoughts are a duty-\\nWhere Love\\'s a grown-up God-\\nWhere the Houri glances are\\nImbued with all the beauty\\nWhich we worship in a star.\\n\\nTherefore thou art not wrong,\\nIsrafeli, who despisest\\nAn unimpassioned song;\\nTo thee the laurels belong,\\nBest bard, because the wisest!\\nMerrily live, and long!\\n\\nThe ecstasies above\\nWith thy burning measures suit-\\nThy grief, thy joy, thy hate, thy love,\\nWith the fervor of thy lute-\\nWell may the stars be mute!\\n\\nYes, Heaven is thine; but this\\nIs a world of sweets and sours;\\nOur flowers are merely- flowers,\\nAnd the shadow of thy perfect bliss\\nIs the sunshine of ours.\\n\\nIf I could dwell\\nWhere Israfel\\nHath dwelt, and he where I,\\nHe might not sing so wildly well\\nA mortal melody,\\nWhile a bolder note than this might swell\\nFrom my lyre within the sky.\\n\\nScience! true daughter of Old Time thou art!\\nWho alterest all things with thy peering eyes.\\nWhy preyest thou thus upon the poet\\'s heart,\\nVulture, whose wings are dull realities?\\nHow should he love thee? or how deem thee wise,\\nWho wouldst not leave him in his wandering\\nTo seek for treasure in the jewelled skies,\\nAlbeit he soared with an undaunted wing?\\nHast thou not dragged Diana from her car?\\nAnd driven the Hamadryad from the wood\\nTo seek a shelter in some happier star?\\nHast thou not torn the Naiad from her flood,\\nThe Elfin from the green grass, and from me\\nThe summer dream beneath the tamarind tree?\\n\\nI\\'ll tell you a plan for gaining wealth,\\nBetter than banking, trade or leases \\nTake a bank note and fold it up, \\nAnd then you will find your money in creases! \\nThis wonderful plan, without danger or loss, \\nKeeps your cash in your hands, where nothing can trouble it; \\nAnd every time that you fold it across, \\n\\'Tis as plain as the light of the day that you double it!\\n\\nThe skies they were ashen and sober;\\nThe leaves they were crisped and sere-\\nThe leaves they were withering and sere;\\nIt was night in the lonesome October\\nOf my most immemorial year;\\nIt was hard by the dim lake of Auber,\\nIn the misty mid region of Weir-\\nIt was down by the dank tarn of Auber,\\nIn the ghoul-haunted woodland of Weir.\\n\\nHere once, through an alley Titanic,\\nOf cypress, I roamed with my Soul-\\nOf cypress, with Psyche, my Soul.\\nThere were days when my heart was volcanic\\nAs the scoriac rivers that roll-\\nAs the lavas that restlessly roll\\nTheir sulphurous currents down Yaanek\\nIn the ultimate climes of the pole-\\nThat groan as they roll down Mount Yaanek\\nIn the realms of the boreal pole.\\n\\nOur talk had been serious and sober,\\nBut our thoughts they were palsied and sere-\\nOur memories were treacherous and sere-\\nFor we knew not the month was October,\\nAnd we marked not the night of the year-\\n(Ah, night of all nights in the year!)\\nWe noted not the dim lake of Auber-\\n(Though once we had journeyed down here),\\nRemembered not the dank tarn of Auber,\\nNor the ghoul-haunted woodland of Weir.\\n\\nAnd now, as the night was senescent,\\nAnd star-dials pointed to morn-\\nAs the star-dials hinted of morn-\\nAt the end of our path a liquescent\\nAnd nebulous lustre was born,\\nOut of which a miraculous crescent\\nArose with a duplicate horn-\\nAstarte\\'s bediamonded crescent\\nDistinct with its duplicate horn.\\n\\nAnd I said- \\'She is warmer than Dian:\\nShe rolls through an ether of sighs-\\nShe revels in a region of sighs:\\nShe has seen that the tears are not dry on\\nThese cheeks, where the worm never dies,\\nAnd has come past the stars of the Lion,\\nTo point us the path to the skies-\\nTo the Lethean peace of the skies-\\nCome up, in despite of the Lion,\\nTo shine on us with her bright eyes-\\nCome up through the lair of the Lion,\\nWith love in her luminous eyes.\\'\\n\\nBut Psyche, uplifting her finger,\\nSaid- \\'Sadly this star I mistrust-\\nHer pallor I strangely mistrust:-\\nOh, hasten!- oh, let us not linger!\\nOh, fly!- let us fly!- for we must.\\'\\nIn terror she spoke, letting sink her\\nWings until they trailed in the dust-\\nIn agony sobbed, letting sink her\\nPlumes till they trailed in the dust-\\nTill they sorrowfully trailed in the dust.\\n\\nI replied- \\'This is nothing but dreaming:\\nLet us on by this tremulous light!\\nLet us bathe in this crystalline light!\\nIts Sybilic splendor is beaming\\nWith Hope and in Beauty to-night:-\\nSee!- it flickers up the sky through the night!\\nAh, we safely may trust to its gleaming,\\nAnd be sure it will lead us aright-\\nWe safely may trust to a gleaming\\nThat cannot but guide us aright,\\nSince it flickers up to Heaven through the night.\\'\\n\\nThus I pacified Psyche and kissed her,\\nAnd tempted her out of her gloom-\\nAnd conquered her scruples and gloom;\\nAnd we passed to the end of the vista,\\nBut were stopped by the door of a tomb-\\nBy the door of a legended tomb;\\nAnd I said- \\'What is written, sweet sister,\\nOn the door of this legended tomb?\\'\\nShe replied- \\'Ulalume- Ulalume-\\n\\'Tis the vault of thy lost Ulalume!\\'\\n\\nThen my heart it grew ashen and sober\\nAs the leaves that were crisped and sere-\\nAs the leaves that were withering and sere-\\nAnd I cried- \\'It was surely October\\nOn this very night of last year\\nThat I journeyed- I journeyed down here-\\nThat I brought a dread burden down here-\\nOn this night of all nights in the year,\\nAh, what demon has tempted me here?\\nWell I know, now, this dim lake of Auber-\\nThis misty mid region of Weir-\\nWell I know, now, this dank tarn of Auber,\\nThis ghoul-haunted woodland of Weir.\\' \\n\\nHow often we forget all time, when lone \\nAdmiring Nature\\'s universal throne; \\nHer woods - her winds - her mountains - the intense \\nReply of Hers to Our intelligence! \\n\\nIn youth I have known one with whom the Earth \\nIn secret communing held - as he with it, \\nIn daylight, and in beauty, from his birth: \\nWhose fervid, flickering torch of life was lit \\nFrom the sun and stars, whence he had drawn forth \\nA passionate light - such for his spirit was fit - \\nAnd yet that spirit knew - not in the hour \\nOf its own fervour - what had o\\'er it power. \\n\\nPerhaps it may be that my mind is wrought \\nTo a fever by the moonbeam that hangs o\\'er, \\nBut I will half believe that wild light fraught \\nWith more of sovereignty than ancient lore \\nHath ever told - or is it of a thought \\nThe unembodied essence, and no more \\nThat with a quickening spell doth o\\'er us pass \\nAs dew of the night time, o\\'er the summer grass? \\n\\nDoth o\\'er us pass, when as th\\' expanding eye \\nTo the loved object - so the tear to the lid \\nWill start, which lately slept in apathy? \\nAnd yet it need not be - (that object) hid \\nFrom us in life - but common - which doth lie \\nEach hour before us - but then only bid \\nWith a strange sound, as of a harpstring broken \\nT\\' awake us - \\'Tis a symbol and a token - \\n\\nOf what in other worlds shall be - and given \\nIn beauty by our God, to those alone \\nWho otherwise would fall from life and Heaven \\nDrawn by their heart\\'s passion, and that tone, \\nThat high tone of the spirit which hath striven \\nThough not with Faith - with godliness - whose throne \\nWith desperate energy \\'t hath beaten down; \\nWearing its own deep feeling as a crown.\\n\\n\\'Tis said that when \\nThe hands of men \\nTamed this primeval wood, \\nAnd hoary trees with groans of woe, \\nLike warriors by an unknown foe, \\nWere in their strength subdued, \\nThe virgin Earth Gave instant birth \\nTo springs that ne\\'er did flow \\nThat in the sun Did rivulets run, \\nAnd all around rare flowers did blow \\nThe wild rose pale Perfumed the gale \\nAnd the queenly lily adown the dale \\n(Whom the sun and the dew \\nAnd the winds did woo), \\nWith the gourd and the grape luxuriant grew. \\n\\nSo when in tears \\nThe love of years \\nIs wasted like the snow, \\nAnd the fine fibrils of its life \\nBy the rude wrong of instant strife \\nAre broken at a blow \\nWithin the heart \\nDo springs upstart \\nOf which it doth now know, \\nAnd strange, sweet dreams, \\nLike silent streams \\nThat from new fountains overflow, \\nWith the earlier tide \\nOf rivers glide \\nDeep in the heart whose hope has died-- \\nQuenching the fires its ashes hide,-- \\nIts ashes, whence will spring and grow \\nSweet flowers, ere long, \\nThe rare and radiant flowers of song!\\n\\nIn the greenest of our valleys,\\nBy good angels tenanted,\\nOnce fair and stately palace --\\nRadiant palace --reared its head.\\nIn the monarch Thought\\'s dominion --\\nIt stood there!\\nNever seraph spread a pinion\\nOver fabric half so fair.\\n\\nBanners yellow, glorious, golden,\\nOn its roof did float and flow;\\n(This --all this --was in the olden\\nTime long ago)\\nAnd every gentle air that dallied,\\nIn that sweet day,\\nAlong the ramparts plumed and pallid,\\nA winged odour went away.\\n\\nWanderers in that happy valley\\nThrough two luminous windows saw\\nSpirits moving musically\\nTo a lute\\'s well-tuned law,\\nRound about a throne, where sitting\\n(Porphyrogene!)\\nIn state his glory well befitting,\\nThe ruler of the realm was seen.\\n\\nAnd all with pearl and ruby glowing\\nWas the fair palace door,\\nThrough which came flowing, flowing, flowing\\nAnd sparkling evermore,\\nA troop of Echoes whose sweet duty\\nWas but to sing,\\nIn voices of surpassing beauty,\\nThe wit and wisdom of their king.\\n\\nBut evil things, in robes of sorrow,\\nAssailed the monarch\\'s high estate;\\n(Ah, let us mourn, for never morrow\\nShall dawn upon him, desolate!)\\nAnd, round about his home, the glory\\nThat blushed and bloomed\\nIs but a dim-remembered story\\nOf the old time entombed.\\n\\nAnd travellers now within that valley,\\nThrough the red-litten windows, see\\nVast forms that move fantastically\\nTo a discordant melody;\\nWhile, like a rapid ghastly river,\\nThrough the pale door,\\nA hideous throng rush out forever,\\nAnd laugh --but smile no more.'"
      ]
     },
     "execution_count": 486,
     "metadata": {},
     "output_type": "execute_result"
    }
   ],
   "source": [
    "raw_poe"
   ]
  }
 ],
 "metadata": {
  "kernelspec": {
   "display_name": "Python 3 (ipykernel)",
   "language": "python",
   "name": "python3"
  },
  "language_info": {
   "codemirror_mode": {
    "name": "ipython",
    "version": 3
   },
   "file_extension": ".py",
   "mimetype": "text/x-python",
   "name": "python",
   "nbconvert_exporter": "python",
   "pygments_lexer": "ipython3",
   "version": "3.10.9"
  }
 },
 "nbformat": 4,
 "nbformat_minor": 5
}
